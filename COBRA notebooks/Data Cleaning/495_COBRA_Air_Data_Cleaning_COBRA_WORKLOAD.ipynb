{
 "cells": [
  {
   "cell_type": "code",
   "execution_count": 114,
   "metadata": {},
   "outputs": [],
   "source": [
    "# Import the necessary libraries\n",
    "import pandas as pd\n",
    "import matplotlib.pyplot as plt\n",
    "import numpy as np\n",
    "import os"
   ]
  },
  {
   "cell_type": "code",
   "execution_count": 115,
   "metadata": {},
   "outputs": [],
   "source": [
    "# first set the working directory. This code will be changed based on the relative location of the data files \n",
    "# on the local drive of the computer executing the command. \n",
    "os.chdir('C:\\\\Users\\\\belincoln\\\\Documents\\\\! CBP\\\\!User Fees\\\\!! Goal 1 Dashboards')\n",
    "\n",
    "# Works well for Jupyter Notebooks, can be configured in Spyder using file explorer. \n",
    "collections = pd.read_excel(os.path.join('Source Emails & Source Files','Files','Collections',\n",
    "                                         'COBRA_Air','Collections cc495 - FY13 - FY18.xls'))"
   ]
  },
  {
   "cell_type": "code",
   "execution_count": 116,
   "metadata": {},
   "outputs": [],
   "source": [
    "# Begin Data Cleaning\n",
    "# delete columns and rows that contain only na\n",
    "collections = collections.dropna(axis=0, how = 'all')\n",
    "collections = collections.dropna(axis=1, how = 'all')"
   ]
  },
  {
   "cell_type": "code",
   "execution_count": 117,
   "metadata": {},
   "outputs": [],
   "source": [
    "# Delete the first two rows and only keep the Period Column and Collection Columns\n",
    "collections = collections.iloc[2:,[1,-1,-3,-4]]"
   ]
  },
  {
   "cell_type": "code",
   "execution_count": 118,
   "metadata": {},
   "outputs": [],
   "source": [
    "# Make first row column headers\n",
    "collections.columns = collections.iloc[0,:]"
   ]
  },
  {
   "cell_type": "code",
   "execution_count": 119,
   "metadata": {},
   "outputs": [],
   "source": [
    "# Make sure all columns have a name! Rename first column 'Period'\n",
    "# Delete first two rows\n",
    "collections.columns.values[0] = 'Period'\n",
    "\n",
    "collections = collections.iloc[2:,:]"
   ]
  },
  {
   "cell_type": "code",
   "execution_count": 120,
   "metadata": {},
   "outputs": [],
   "source": [
    "# Delete rows that contain sums for each company (don't want to double count collections)\n",
    "# Also delete additional NaNs\n",
    "collections = collections.dropna(axis = 0, subset = ['Period'])"
   ]
  },
  {
   "cell_type": "code",
   "execution_count": 121,
   "metadata": {},
   "outputs": [],
   "source": [
    "# Sum Interest, Penalty, and Principal Collection Amounts\n",
    "collections['Collections'] = collections[['Applied Penalty Amount', 'Applied Interest Amount',\n",
    "       'Applied Principal Amount']].sum(axis = 1)"
   ]
  },
  {
   "cell_type": "code",
   "execution_count": 122,
   "metadata": {},
   "outputs": [],
   "source": [
    "# remove tilda from index (unclear why it exists in the first place)\n",
    "collections['Period'] = collections['Period'].str.rstrip('~')\n",
    "# remove extra space from index\n",
    "collections['Period'] = collections['Period'].str.rstrip(' ')"
   ]
  },
  {
   "cell_type": "code",
   "execution_count": 123,
   "metadata": {},
   "outputs": [],
   "source": [
    "# Groups Collections based on Collection Period, across all companies\n",
    "collections = collections.groupby(collections['Period']).sum()"
   ]
  },
  {
   "cell_type": "code",
   "execution_count": 124,
   "metadata": {},
   "outputs": [],
   "source": [
    "# Remove audit payments\n",
    "collections= collections[~collections.index.str.contains(\"\\*\")]\n",
    "\n",
    "# Add an additional column that shows remittance period (independent of year)\n",
    "collections['Remittance Period'] = collections.index.str.split('20').str[0]\n",
    "\n",
    "\n",
    "# Create Calendar Year Column\n",
    "collections['Calendar Year'] = collections.index.str.split(')').str[1]\n",
    "# Turn Years into integers\n",
    "collections['Calendar Year'] = collections['Calendar Year'].astype(int)\n",
    "\n",
    "# Filter on years not a part of analysis\n",
    "years = [2012,2013,2014,2015,2016,2017,2018]\n",
    "collections = collections[collections['Calendar Year'].isin(years)]"
   ]
  },
  {
   "cell_type": "code",
   "execution_count": 125,
   "metadata": {},
   "outputs": [],
   "source": [
    "#remove collection data for which we don't have workload data\n",
    "searchfor = ['Qtr 01 \\(Jan-Mar\\) 2012','Qtr 02 \\(Apr-Jun\\) 2012', 'Qtr 03 \\(Jul-Sept\\) 2012','Qtr 04 \\(Oct-Dec\\) 2018']\n",
    "collections = collections[~collections.index.str.contains('|'.join(searchfor))]\n"
   ]
  },
  {
   "cell_type": "code",
   "execution_count": 126,
   "metadata": {},
   "outputs": [],
   "source": [
    "#%% Read Workload Data\n",
    "workload = pd.read_excel(os.path.join('Source Emails & Source Files','Files','Workload',\n",
    "                                      'COBRA_Air','fy13-18 stats by_Month National.xlsx'))"
   ]
  },
  {
   "cell_type": "code",
   "execution_count": 127,
   "metadata": {},
   "outputs": [],
   "source": [
    "# Select only Comm Aircraft Pax/Crew Combined (ECAR) Workload metric from PPAE file\n",
    "workload = workload.iloc[13,:]\n",
    "# Remove unnecessary and non-numeric columns\n",
    "workload = workload[4:]"
   ]
  },
  {
   "cell_type": "code",
   "execution_count": 128,
   "metadata": {},
   "outputs": [],
   "source": [
    "# Turn Series into a dataframe. Rename the first column \"Workload\"\n",
    "workload = workload.to_frame()\n",
    "workload.columns = ['Comm Aircraft Pax/Crew combined (ECAR)']"
   ]
  },
  {
   "cell_type": "code",
   "execution_count": 129,
   "metadata": {},
   "outputs": [],
   "source": [
    "# Create Calendar Year and Month Columns\n",
    "workload['Month'] = workload.index.str.split('/').str[0]\n",
    "workload['Calendar Year'] = workload.index.str.split('/').str[2]\n"
   ]
  },
  {
   "cell_type": "code",
   "execution_count": 130,
   "metadata": {},
   "outputs": [],
   "source": [
    "# Filter on years not a part of analysis\n",
    "years = ['2012','2013','2014','2015','2016','2017','2018']\n",
    "workload = workload[workload['Calendar Year'].isin(years)]"
   ]
  },
  {
   "cell_type": "code",
   "execution_count": 131,
   "metadata": {},
   "outputs": [],
   "source": [
    "# Build out Remittance Period Columns\n",
    "conditions = [(workload['Month'] == '1'), (workload['Month'] == '2'), (workload['Month'] == '3'), \n",
    "              (workload['Month'] == '4'), (workload['Month'] == '5'), (workload['Month'] == '6'),\n",
    "              (workload['Month'] == '7'),(workload['Month'] == '8'),(workload['Month'] == '9'),\n",
    "              (workload['Month'] == '10'),(workload['Month'] == '11'),(workload['Month'] == '12')] \n",
    "choices = ['Qtr 01 (Jan-Mar)','Qtr 01 (Jan-Mar)','Qtr 01 (Jan-Mar)',\n",
    "           'Qtr 02 (Apr-Jun)','Qtr 02 (Apr-Jun)','Qtr 02 (Apr-Jun)',\n",
    "           'Qtr 03 (Jul-Sept)','Qtr 03 (Jul-Sept)', 'Qtr 03 (Jul-Sept)',\n",
    "           'Qtr 04 (Oct-Dec)','Qtr 04 (Oct-Dec)','Qtr 04 (Oct-Dec)']\n",
    "workload['Remittance Period'] = np.select(conditions, choices, default='error')"
   ]
  },
  {
   "cell_type": "code",
   "execution_count": 132,
   "metadata": {},
   "outputs": [],
   "source": [
    "# Reset index to Remittance Period plus Calendar Year to merge with Collection data\n",
    "workload.index = workload['Remittance Period'] + ' ' + workload['Calendar Year']\n",
    "# Drop unnecssary columns\n",
    "workload.drop(['Calendar Year', 'Month','Remittance Period'], inplace = True, axis=1)\n"
   ]
  },
  {
   "cell_type": "code",
   "execution_count": 133,
   "metadata": {},
   "outputs": [],
   "source": [
    "# Sum on Remittance Period\n",
    "workload = workload.groupby(workload.index).sum()"
   ]
  },
  {
   "cell_type": "code",
   "execution_count": 134,
   "metadata": {},
   "outputs": [],
   "source": [
    "workload_collections = pd.merge(workload,collections,how = 'inner', left_index = True, right_index = True)\n",
    "#%%"
   ]
  },
  {
   "cell_type": "code",
   "execution_count": 135,
   "metadata": {},
   "outputs": [],
   "source": [
    "corr = workload_collections.corr()"
   ]
  },
  {
   "cell_type": "code",
   "execution_count": 136,
   "metadata": {},
   "outputs": [
    {
     "data": {
      "text/html": [
       "<div>\n",
       "<style scoped>\n",
       "    .dataframe tbody tr th:only-of-type {\n",
       "        vertical-align: middle;\n",
       "    }\n",
       "\n",
       "    .dataframe tbody tr th {\n",
       "        vertical-align: top;\n",
       "    }\n",
       "\n",
       "    .dataframe thead th {\n",
       "        text-align: right;\n",
       "    }\n",
       "</style>\n",
       "<table border=\"1\" class=\"dataframe\">\n",
       "  <thead>\n",
       "    <tr style=\"text-align: right;\">\n",
       "      <th></th>\n",
       "      <th>Comm Aircraft Pax/Crew combined (ECAR)</th>\n",
       "      <th>Collections</th>\n",
       "      <th>Calendar Year</th>\n",
       "    </tr>\n",
       "  </thead>\n",
       "  <tbody>\n",
       "    <tr>\n",
       "      <td>Comm Aircraft Pax/Crew combined (ECAR)</td>\n",
       "      <td>1.000000</td>\n",
       "      <td>-0.146586</td>\n",
       "      <td>0.721411</td>\n",
       "    </tr>\n",
       "    <tr>\n",
       "      <td>Collections</td>\n",
       "      <td>-0.146586</td>\n",
       "      <td>1.000000</td>\n",
       "      <td>0.177910</td>\n",
       "    </tr>\n",
       "    <tr>\n",
       "      <td>Calendar Year</td>\n",
       "      <td>0.721411</td>\n",
       "      <td>0.177910</td>\n",
       "      <td>1.000000</td>\n",
       "    </tr>\n",
       "  </tbody>\n",
       "</table>\n",
       "</div>"
      ],
      "text/plain": [
       "                                        Comm Aircraft Pax/Crew combined (ECAR)  \\\n",
       "Comm Aircraft Pax/Crew combined (ECAR)                                1.000000   \n",
       "Collections                                                          -0.146586   \n",
       "Calendar Year                                                         0.721411   \n",
       "\n",
       "                                        Collections  Calendar Year  \n",
       "Comm Aircraft Pax/Crew combined (ECAR)    -0.146586       0.721411  \n",
       "Collections                                1.000000       0.177910  \n",
       "Calendar Year                              0.177910       1.000000  "
      ]
     },
     "execution_count": 136,
     "metadata": {},
     "output_type": "execute_result"
    }
   ],
   "source": [
    "corr"
   ]
  },
  {
   "cell_type": "code",
   "execution_count": 138,
   "metadata": {},
   "outputs": [
    {
     "data": {
      "text/html": [
       "<div>\n",
       "<style scoped>\n",
       "    .dataframe tbody tr th:only-of-type {\n",
       "        vertical-align: middle;\n",
       "    }\n",
       "\n",
       "    .dataframe tbody tr th {\n",
       "        vertical-align: top;\n",
       "    }\n",
       "\n",
       "    .dataframe thead th {\n",
       "        text-align: right;\n",
       "    }\n",
       "</style>\n",
       "<table border=\"1\" class=\"dataframe\">\n",
       "  <thead>\n",
       "    <tr style=\"text-align: right;\">\n",
       "      <th></th>\n",
       "      <th>Comm Aircraft Pax/Crew combined (ECAR)</th>\n",
       "      <th>Collections</th>\n",
       "      <th>Remittance Period</th>\n",
       "      <th>Calendar Year</th>\n",
       "    </tr>\n",
       "  </thead>\n",
       "  <tbody>\n",
       "    <tr>\n",
       "      <td>Qtr 01 (Jan-Mar) 2013</td>\n",
       "      <td>19922659.0</td>\n",
       "      <td>1.446142e+08</td>\n",
       "      <td>Qtr 01 (Jan-Mar)</td>\n",
       "      <td>2013</td>\n",
       "    </tr>\n",
       "    <tr>\n",
       "      <td>Qtr 01 (Jan-Mar) 2014</td>\n",
       "      <td>20465041.0</td>\n",
       "      <td>1.519669e+08</td>\n",
       "      <td>Qtr 01 (Jan-Mar)</td>\n",
       "      <td>2014</td>\n",
       "    </tr>\n",
       "    <tr>\n",
       "      <td>Qtr 01 (Jan-Mar) 2015</td>\n",
       "      <td>21503062.0</td>\n",
       "      <td>1.626936e+08</td>\n",
       "      <td>Qtr 01 (Jan-Mar)</td>\n",
       "      <td>2015</td>\n",
       "    </tr>\n",
       "    <tr>\n",
       "      <td>Qtr 01 (Jan-Mar) 2016</td>\n",
       "      <td>23208448.0</td>\n",
       "      <td>1.683570e+08</td>\n",
       "      <td>Qtr 01 (Jan-Mar)</td>\n",
       "      <td>2016</td>\n",
       "    </tr>\n",
       "    <tr>\n",
       "      <td>Qtr 01 (Jan-Mar) 2017</td>\n",
       "      <td>23782842.0</td>\n",
       "      <td>1.820994e+08</td>\n",
       "      <td>Qtr 01 (Jan-Mar)</td>\n",
       "      <td>2017</td>\n",
       "    </tr>\n",
       "    <tr>\n",
       "      <td>Qtr 01 (Jan-Mar) 2018</td>\n",
       "      <td>25067750.0</td>\n",
       "      <td>1.993085e+08</td>\n",
       "      <td>Qtr 01 (Jan-Mar)</td>\n",
       "      <td>2018</td>\n",
       "    </tr>\n",
       "    <tr>\n",
       "      <td>Qtr 02 (Apr-Jun) 2013</td>\n",
       "      <td>21933564.0</td>\n",
       "      <td>1.369273e+08</td>\n",
       "      <td>Qtr 02 (Apr-Jun)</td>\n",
       "      <td>2013</td>\n",
       "    </tr>\n",
       "    <tr>\n",
       "      <td>Qtr 02 (Apr-Jun) 2014</td>\n",
       "      <td>23136714.0</td>\n",
       "      <td>1.428367e+08</td>\n",
       "      <td>Qtr 02 (Apr-Jun)</td>\n",
       "      <td>2014</td>\n",
       "    </tr>\n",
       "    <tr>\n",
       "      <td>Qtr 02 (Apr-Jun) 2015</td>\n",
       "      <td>24050999.0</td>\n",
       "      <td>1.545880e+08</td>\n",
       "      <td>Qtr 02 (Apr-Jun)</td>\n",
       "      <td>2015</td>\n",
       "    </tr>\n",
       "    <tr>\n",
       "      <td>Qtr 02 (Apr-Jun) 2016</td>\n",
       "      <td>25184172.0</td>\n",
       "      <td>1.629744e+08</td>\n",
       "      <td>Qtr 02 (Apr-Jun)</td>\n",
       "      <td>2016</td>\n",
       "    </tr>\n",
       "    <tr>\n",
       "      <td>Qtr 02 (Apr-Jun) 2017</td>\n",
       "      <td>27026831.0</td>\n",
       "      <td>1.672569e+08</td>\n",
       "      <td>Qtr 02 (Apr-Jun)</td>\n",
       "      <td>2017</td>\n",
       "    </tr>\n",
       "    <tr>\n",
       "      <td>Qtr 02 (Apr-Jun) 2018</td>\n",
       "      <td>28305334.0</td>\n",
       "      <td>1.795427e+08</td>\n",
       "      <td>Qtr 02 (Apr-Jun)</td>\n",
       "      <td>2018</td>\n",
       "    </tr>\n",
       "    <tr>\n",
       "      <td>Qtr 03 (Jul-Sept) 2013</td>\n",
       "      <td>24784259.0</td>\n",
       "      <td>1.285809e+08</td>\n",
       "      <td>Qtr 03 (Jul-Sept)</td>\n",
       "      <td>2013</td>\n",
       "    </tr>\n",
       "    <tr>\n",
       "      <td>Qtr 03 (Jul-Sept) 2014</td>\n",
       "      <td>25525956.0</td>\n",
       "      <td>1.353596e+08</td>\n",
       "      <td>Qtr 03 (Jul-Sept)</td>\n",
       "      <td>2014</td>\n",
       "    </tr>\n",
       "    <tr>\n",
       "      <td>Qtr 03 (Jul-Sept) 2015</td>\n",
       "      <td>27292942.0</td>\n",
       "      <td>1.433550e+08</td>\n",
       "      <td>Qtr 03 (Jul-Sept)</td>\n",
       "      <td>2015</td>\n",
       "    </tr>\n",
       "    <tr>\n",
       "      <td>Qtr 03 (Jul-Sept) 2016</td>\n",
       "      <td>28634408.0</td>\n",
       "      <td>1.508790e+08</td>\n",
       "      <td>Qtr 03 (Jul-Sept)</td>\n",
       "      <td>2016</td>\n",
       "    </tr>\n",
       "    <tr>\n",
       "      <td>Qtr 03 (Jul-Sept) 2017</td>\n",
       "      <td>29779740.0</td>\n",
       "      <td>1.551012e+08</td>\n",
       "      <td>Qtr 03 (Jul-Sept)</td>\n",
       "      <td>2017</td>\n",
       "    </tr>\n",
       "    <tr>\n",
       "      <td>Qtr 03 (Jul-Sept) 2018</td>\n",
       "      <td>31409504.0</td>\n",
       "      <td>7.346173e+05</td>\n",
       "      <td>Qtr 03 (Jul-Sept)</td>\n",
       "      <td>2018</td>\n",
       "    </tr>\n",
       "    <tr>\n",
       "      <td>Qtr 04 (Oct-Dec) 2012</td>\n",
       "      <td>19042533.0</td>\n",
       "      <td>1.094443e+08</td>\n",
       "      <td>Qtr 04 (Oct-Dec)</td>\n",
       "      <td>2012</td>\n",
       "    </tr>\n",
       "    <tr>\n",
       "      <td>Qtr 04 (Oct-Dec) 2013</td>\n",
       "      <td>20183332.0</td>\n",
       "      <td>1.186901e+08</td>\n",
       "      <td>Qtr 04 (Oct-Dec)</td>\n",
       "      <td>2013</td>\n",
       "    </tr>\n",
       "    <tr>\n",
       "      <td>Qtr 04 (Oct-Dec) 2014</td>\n",
       "      <td>20496599.0</td>\n",
       "      <td>1.232053e+08</td>\n",
       "      <td>Qtr 04 (Oct-Dec)</td>\n",
       "      <td>2014</td>\n",
       "    </tr>\n",
       "    <tr>\n",
       "      <td>Qtr 04 (Oct-Dec) 2015</td>\n",
       "      <td>22287066.0</td>\n",
       "      <td>1.311344e+08</td>\n",
       "      <td>Qtr 04 (Oct-Dec)</td>\n",
       "      <td>2015</td>\n",
       "    </tr>\n",
       "    <tr>\n",
       "      <td>Qtr 04 (Oct-Dec) 2016</td>\n",
       "      <td>23064200.0</td>\n",
       "      <td>1.425185e+08</td>\n",
       "      <td>Qtr 04 (Oct-Dec)</td>\n",
       "      <td>2016</td>\n",
       "    </tr>\n",
       "    <tr>\n",
       "      <td>Qtr 04 (Oct-Dec) 2017</td>\n",
       "      <td>24075865.0</td>\n",
       "      <td>1.495354e+08</td>\n",
       "      <td>Qtr 04 (Oct-Dec)</td>\n",
       "      <td>2017</td>\n",
       "    </tr>\n",
       "  </tbody>\n",
       "</table>\n",
       "</div>"
      ],
      "text/plain": [
       "                        Comm Aircraft Pax/Crew combined (ECAR)   Collections  \\\n",
       "Qtr 01 (Jan-Mar) 2013                               19922659.0  1.446142e+08   \n",
       "Qtr 01 (Jan-Mar) 2014                               20465041.0  1.519669e+08   \n",
       "Qtr 01 (Jan-Mar) 2015                               21503062.0  1.626936e+08   \n",
       "Qtr 01 (Jan-Mar) 2016                               23208448.0  1.683570e+08   \n",
       "Qtr 01 (Jan-Mar) 2017                               23782842.0  1.820994e+08   \n",
       "Qtr 01 (Jan-Mar) 2018                               25067750.0  1.993085e+08   \n",
       "Qtr 02 (Apr-Jun) 2013                               21933564.0  1.369273e+08   \n",
       "Qtr 02 (Apr-Jun) 2014                               23136714.0  1.428367e+08   \n",
       "Qtr 02 (Apr-Jun) 2015                               24050999.0  1.545880e+08   \n",
       "Qtr 02 (Apr-Jun) 2016                               25184172.0  1.629744e+08   \n",
       "Qtr 02 (Apr-Jun) 2017                               27026831.0  1.672569e+08   \n",
       "Qtr 02 (Apr-Jun) 2018                               28305334.0  1.795427e+08   \n",
       "Qtr 03 (Jul-Sept) 2013                              24784259.0  1.285809e+08   \n",
       "Qtr 03 (Jul-Sept) 2014                              25525956.0  1.353596e+08   \n",
       "Qtr 03 (Jul-Sept) 2015                              27292942.0  1.433550e+08   \n",
       "Qtr 03 (Jul-Sept) 2016                              28634408.0  1.508790e+08   \n",
       "Qtr 03 (Jul-Sept) 2017                              29779740.0  1.551012e+08   \n",
       "Qtr 03 (Jul-Sept) 2018                              31409504.0  7.346173e+05   \n",
       "Qtr 04 (Oct-Dec) 2012                               19042533.0  1.094443e+08   \n",
       "Qtr 04 (Oct-Dec) 2013                               20183332.0  1.186901e+08   \n",
       "Qtr 04 (Oct-Dec) 2014                               20496599.0  1.232053e+08   \n",
       "Qtr 04 (Oct-Dec) 2015                               22287066.0  1.311344e+08   \n",
       "Qtr 04 (Oct-Dec) 2016                               23064200.0  1.425185e+08   \n",
       "Qtr 04 (Oct-Dec) 2017                               24075865.0  1.495354e+08   \n",
       "\n",
       "                         Remittance Period  Calendar Year  \n",
       "Qtr 01 (Jan-Mar) 2013    Qtr 01 (Jan-Mar)            2013  \n",
       "Qtr 01 (Jan-Mar) 2014    Qtr 01 (Jan-Mar)            2014  \n",
       "Qtr 01 (Jan-Mar) 2015    Qtr 01 (Jan-Mar)            2015  \n",
       "Qtr 01 (Jan-Mar) 2016    Qtr 01 (Jan-Mar)            2016  \n",
       "Qtr 01 (Jan-Mar) 2017    Qtr 01 (Jan-Mar)            2017  \n",
       "Qtr 01 (Jan-Mar) 2018    Qtr 01 (Jan-Mar)            2018  \n",
       "Qtr 02 (Apr-Jun) 2013    Qtr 02 (Apr-Jun)            2013  \n",
       "Qtr 02 (Apr-Jun) 2014    Qtr 02 (Apr-Jun)            2014  \n",
       "Qtr 02 (Apr-Jun) 2015    Qtr 02 (Apr-Jun)            2015  \n",
       "Qtr 02 (Apr-Jun) 2016    Qtr 02 (Apr-Jun)            2016  \n",
       "Qtr 02 (Apr-Jun) 2017    Qtr 02 (Apr-Jun)            2017  \n",
       "Qtr 02 (Apr-Jun) 2018    Qtr 02 (Apr-Jun)            2018  \n",
       "Qtr 03 (Jul-Sept) 2013  Qtr 03 (Jul-Sept)            2013  \n",
       "Qtr 03 (Jul-Sept) 2014  Qtr 03 (Jul-Sept)            2014  \n",
       "Qtr 03 (Jul-Sept) 2015  Qtr 03 (Jul-Sept)            2015  \n",
       "Qtr 03 (Jul-Sept) 2016  Qtr 03 (Jul-Sept)            2016  \n",
       "Qtr 03 (Jul-Sept) 2017  Qtr 03 (Jul-Sept)            2017  \n",
       "Qtr 03 (Jul-Sept) 2018  Qtr 03 (Jul-Sept)            2018  \n",
       "Qtr 04 (Oct-Dec) 2012    Qtr 04 (Oct-Dec)            2012  \n",
       "Qtr 04 (Oct-Dec) 2013    Qtr 04 (Oct-Dec)            2013  \n",
       "Qtr 04 (Oct-Dec) 2014    Qtr 04 (Oct-Dec)            2014  \n",
       "Qtr 04 (Oct-Dec) 2015    Qtr 04 (Oct-Dec)            2015  \n",
       "Qtr 04 (Oct-Dec) 2016    Qtr 04 (Oct-Dec)            2016  \n",
       "Qtr 04 (Oct-Dec) 2017    Qtr 04 (Oct-Dec)            2017  "
      ]
     },
     "execution_count": 138,
     "metadata": {},
     "output_type": "execute_result"
    }
   ],
   "source": [
    "workload_collections"
   ]
  },
  {
   "cell_type": "code",
   "execution_count": 139,
   "metadata": {},
   "outputs": [],
   "source": [
    "workload_collections2 = workload_collections"
   ]
  },
  {
   "cell_type": "code",
   "execution_count": 140,
   "metadata": {},
   "outputs": [
    {
     "name": "stdout",
     "output_type": "stream",
     "text": [
      "Stored 'workload_collections2' (DataFrame)\n"
     ]
    }
   ],
   "source": [
    "%store workload_collections2"
   ]
  },
  {
   "cell_type": "code",
   "execution_count": null,
   "metadata": {},
   "outputs": [],
   "source": []
  }
 ],
 "metadata": {
  "kernelspec": {
   "display_name": "Python 3",
   "language": "python",
   "name": "python3"
  },
  "language_info": {
   "codemirror_mode": {
    "name": "ipython",
    "version": 3
   },
   "file_extension": ".py",
   "mimetype": "text/x-python",
   "name": "python",
   "nbconvert_exporter": "python",
   "pygments_lexer": "ipython3",
   "version": "3.7.4"
  }
 },
 "nbformat": 4,
 "nbformat_minor": 2
}
